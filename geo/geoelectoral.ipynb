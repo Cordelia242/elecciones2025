{
 "cells": [
  {
   "cell_type": "markdown",
   "id": "d0413563-ad81-489c-89d8-6bacfd57ac4e",
   "metadata": {},
   "source": [
    "# Descarga de datos geográficos de GeoElectoral\n",
    "El Órgano Electoral mantiene datos geográficos públicos en una [instancia arcgis](https://geoelectoral.oep.org.bo/oep/rest/services/). A inicios de agosto de 2025, es posible acceder a coordenadas de asientos, recintos y circunscripciones electorales para las elecciones generales de 2020 y 2025, entre otra información. En este notebook descargamos los campos más esenciales (información geográfica + identificadores) de estas capas a documentos GeoPackage."
   ]
  },
  {
   "cell_type": "code",
   "execution_count": 2,
   "id": "22b0982f-8d69-42e7-b520-f94013f941b3",
   "metadata": {},
   "outputs": [],
   "source": [
    "import requests\n",
    "import geopandas as gpd\n",
    "from os import makedirs\n",
    "from tqdm import tqdm"
   ]
  },
  {
   "cell_type": "markdown",
   "id": "52c5e27a-4f9d-4420-ace9-e12a3cf86215",
   "metadata": {},
   "source": [
    "Especificamos los datasets que queremos:"
   ]
  },
  {
   "cell_type": "code",
   "execution_count": 3,
   "id": "3f2c21d5-7332-4186-8cf2-30c3e0397ce9",
   "metadata": {},
   "outputs": [],
   "source": [
    "GEOELECTORAL = \"https://geoelectoral.oep.org.bo/oep/rest/services\"\n",
    "DATA_PATHS = [\n",
    "    {\n",
    "        \"year\": 2020,  # el año, que utilizaremos como el nombre del directorio donde guardamos los datos\n",
    "        \"name\": \"asientos\",  # el nombre, que utilizaremos como el filename del geopackage\n",
    "        \"item\": \"EleccionesGenerales2020/EleccionesNacionales2020\",  # el item dentro del servidor arcgis\n",
    "        \"mapserver\": 3,  # el mapserver dentro del item donde están los datos\n",
    "        \"fields\": {\n",
    "            \"IdLoc\": \"asiento\"\n",
    "        },  # un diccionario que mapea los campos que queremos, aparte de la información geográfica, y los nombres con los que queremos almacenar esos campos\n",
    "    },\n",
    "    {\n",
    "        \"year\": 2020,\n",
    "        \"name\": \"recintos\",\n",
    "        \"item\": \"EleccionesGenerales2020/EleccionesNacionales2020\",\n",
    "        \"mapserver\": 2,\n",
    "        \"fields\": {\"IdLoc\": \"asiento\", \"Reci\": \"recinto\"},\n",
    "    },\n",
    "    {\n",
    "        \"year\": 2020,\n",
    "        \"name\": \"circunscripciones\",\n",
    "        \"item\": \"Circunscripciones/CIRCUNSCRIPCIONES_BOLIVIA\",\n",
    "        \"mapserver\": 1,\n",
    "        \"fields\": {\"CU_2014\": \"circunscripcion\"},\n",
    "    },\n",
    "    {\n",
    "        \"year\": 2025,\n",
    "        \"name\": \"asientos\",\n",
    "        \"item\": \"AsientosElectorales/AsientosRecintos_20_05_2025\",\n",
    "        \"mapserver\": 0,\n",
    "        \"fields\": {\"IdLoc\": \"asiento\"},\n",
    "    },\n",
    "    {\n",
    "        \"year\": 2025,\n",
    "        \"name\": \"recintos\",\n",
    "        \"item\": \"AsientosElectorales/AsientosRecintos_20_05_2025\",\n",
    "        \"mapserver\": 1,\n",
    "        \"fields\": {\"IdLoc\": \"asiento\", \"Reci\": \"recinto\"},\n",
    "    },\n",
    "    {\n",
    "        \"year\": 2025,\n",
    "        \"name\": \"circunscripciones\",\n",
    "        \"item\": \"EleccionesGenerales2020/Circunscripciones2025_4\",\n",
    "        \"mapserver\": 0,\n",
    "        \"fields\": {\"cu\": \"circunscripcion\"},\n",
    "    },\n",
    "]"
   ]
  },
  {
   "cell_type": "markdown",
   "id": "ed86015e-105a-4b1d-937a-8dcb366c2c35",
   "metadata": {},
   "source": [
    "Y los descargamos."
   ]
  },
  {
   "cell_type": "code",
   "execution_count": 1,
   "id": "4d8b7224-7253-4ca5-b41d-d7a2bd1092a8",
   "metadata": {},
   "outputs": [],
   "source": [
    "def descargar_capa(datapath, output_crs=4326):\n",
    "    print(f\"Descargando {datapath['name']} para {datapath['year']}...\")\n",
    "    directory = datapath[\"year\"]\n",
    "    filename = f\"{datapath['name']}.gpkg\"\n",
    "    makedirs(str(directory), exist_ok=True)\n",
    "\n",
    "    features = []\n",
    "    features_per_call = 100\n",
    "    mapserver = f\"{GEOELECTORAL}/{datapath['item']}/MapServer/{datapath['mapserver']}\"\n",
    "    crs = next(\n",
    "        iter(\n",
    "            requests.get(f\"{mapserver}?f=json\")\n",
    "            .json()[\"sourceSpatialReference\"]\n",
    "            .values()\n",
    "        )\n",
    "    )\n",
    "    fields = \",\".join(datapath[\"fields\"].keys())\n",
    "    feature_ids = requests.get(\n",
    "        f\"{mapserver}/query?where=1=1&returnIdsOnly=true&f=json\"\n",
    "    ).json()[\"objectIds\"]\n",
    "    for i in tqdm(range(0, len(feature_ids), features_per_call)):\n",
    "        features.extend(\n",
    "            requests.get(\n",
    "                f\"{mapserver}/query\",\n",
    "                params={\n",
    "                    \"objectIds\": \",\".join(\n",
    "                        map(str, feature_ids[i : i + features_per_call])\n",
    "                    ),\n",
    "                    \"outFields\": fields,\n",
    "                    \"returnGeometry\": \"true\",\n",
    "                    \"f\": \"geojson\",\n",
    "                },\n",
    "            ).json()[\"features\"]\n",
    "        )\n",
    "    gdf = gpd.GeoDataFrame.from_features(features, crs=crs).rename(\n",
    "        columns=datapath[\"fields\"]\n",
    "    )\n",
    "    gdf.to_crs(output_crs).to_file(f\"{directory}/{filename}\", driver=\"GPKG\")"
   ]
  },
  {
   "cell_type": "code",
   "execution_count": 4,
   "id": "048252d4-575a-43ef-88df-d5bbee3f2c2f",
   "metadata": {},
   "outputs": [
    {
     "name": "stdout",
     "output_type": "stream",
     "text": [
      "Descargando asientos para 2020...\n"
     ]
    },
    {
     "name": "stderr",
     "output_type": "stream",
     "text": [
      "100%|██████████| 36/36 [00:19<00:00,  1.86it/s]\n"
     ]
    },
    {
     "name": "stdout",
     "output_type": "stream",
     "text": [
      "Descargando recintos para 2020...\n"
     ]
    },
    {
     "name": "stderr",
     "output_type": "stream",
     "text": [
      "100%|██████████| 54/54 [00:28<00:00,  1.87it/s]\n"
     ]
    },
    {
     "name": "stdout",
     "output_type": "stream",
     "text": [
      "Descargando circunscripciones para 2020...\n"
     ]
    },
    {
     "name": "stderr",
     "output_type": "stream",
     "text": [
      "100%|██████████| 1/1 [00:12<00:00, 12.51s/it]\n"
     ]
    },
    {
     "name": "stdout",
     "output_type": "stream",
     "text": [
      "Descargando asientos para 2025...\n"
     ]
    },
    {
     "name": "stderr",
     "output_type": "stream",
     "text": [
      "100%|██████████| 38/38 [00:23<00:00,  1.64it/s]\n"
     ]
    },
    {
     "name": "stdout",
     "output_type": "stream",
     "text": [
      "Descargando recintos para 2025...\n"
     ]
    },
    {
     "name": "stderr",
     "output_type": "stream",
     "text": [
      "100%|██████████| 58/58 [00:34<00:00,  1.67it/s]\n"
     ]
    },
    {
     "name": "stdout",
     "output_type": "stream",
     "text": [
      "Descargando circunscripciones para 2025...\n"
     ]
    },
    {
     "name": "stderr",
     "output_type": "stream",
     "text": [
      "100%|██████████| 1/1 [00:17<00:00, 17.31s/it]\n"
     ]
    }
   ],
   "source": [
    "for datapath in DATA_PATHS:\n",
    "    descargar_capa(datapath)"
   ]
  }
 ],
 "metadata": {
  "kernelspec": {
   "display_name": "pruebas",
   "language": "python",
   "name": "pruebas"
  },
  "language_info": {
   "codemirror_mode": {
    "name": "ipython",
    "version": 3
   },
   "file_extension": ".py",
   "mimetype": "text/x-python",
   "name": "python",
   "nbconvert_exporter": "python",
   "pygments_lexer": "ipython3",
   "version": "3.12.3"
  }
 },
 "nbformat": 4,
 "nbformat_minor": 5
}
