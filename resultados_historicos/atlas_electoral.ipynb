{
 "cells": [
  {
   "cell_type": "markdown",
   "id": "e05a198c-9cd9-4bfb-ad84-3c97307ca37b",
   "metadata": {},
   "source": [
    "# Descarga de resultados de elecciones generales disponibles en el Atlas Electoral del OEP\n",
    "\n",
    "El Órgano Electoral mantiene un [atlas con datos de resultados electorales](https://atlaselectoral.oep.org.bo/). En este notebook descargo todos los datos disponibles para elecciones generales."
   ]
  },
  {
   "cell_type": "code",
   "execution_count": 104,
   "id": "0b6bd55d-1b7a-4282-8a9d-9e34bfa308ee",
   "metadata": {},
   "outputs": [],
   "source": [
    "import requests\n",
    "import pandas as pd\n",
    "import os\n",
    "from IPython.display import Markdown, display"
   ]
  },
  {
   "cell_type": "markdown",
   "id": "5463e87f-8206-47f3-bee2-0cb6b8a694a0",
   "metadata": {},
   "source": [
    "Creamos una lista de los procesos electorales disponibles en el Atlas Electoral."
   ]
  },
  {
   "cell_type": "code",
   "execution_count": 12,
   "id": "42bfd3ad-6f6b-4374-9c9b-b4cffa0c961f",
   "metadata": {},
   "outputs": [],
   "source": [
    "def listar_procesos():\n",
    "    def parse_categoria(categoria):\n",
    "        def parse_level(level, sublevel_key):\n",
    "            return [\n",
    "                {k: level[k] for k in level.keys() if k != sublevel_key},\n",
    "                level[sublevel_key],\n",
    "            ]\n",
    "\n",
    "        data = []\n",
    "        data_categoria, procesos = parse_level(categoria, \"proceso_electorals\")\n",
    "        for proceso in procesos:\n",
    "            data_proceso, subprocesos = parse_level(proceso, \"sub_procesos\")\n",
    "            for subproceso in subprocesos:\n",
    "                data.append({**data_categoria, **data_proceso, **subproceso})\n",
    "        return data\n",
    "\n",
    "    response = requests.get(\n",
    "        \"https://atlaselectoral.oep.org.bo/api/proceso-electoral-menu\"\n",
    "    )\n",
    "    resultado = []\n",
    "    for categoria in response.json():\n",
    "        resultado.extend(parse_categoria(categoria))\n",
    "    return pd.DataFrame(resultado)"
   ]
  },
  {
   "cell_type": "code",
   "execution_count": 13,
   "id": "85400a57-a4ba-477a-b263-1b143a8910f0",
   "metadata": {},
   "outputs": [],
   "source": [
    "procesos = listar_procesos()"
   ]
  },
  {
   "cell_type": "code",
   "execution_count": 17,
   "id": "b94115e1-d296-40be-9261-be00eaceecdf",
   "metadata": {},
   "outputs": [
    {
     "data": {
      "text/markdown": [
       "Existen 7 categorías con 48 procesos y 130 subprocesos electorales."
      ],
      "text/plain": [
       "<IPython.core.display.Markdown object>"
      ]
     },
     "execution_count": 17,
     "metadata": {},
     "output_type": "execute_result"
    }
   ],
   "source": [
    "Markdown(\n",
    "    f\"Existen {len(procesos.id_agrupacion_proceso.unique())} categorías con {len(procesos.id_proceso_electoral.unique())} procesos y {len(procesos.id_sub_proceso.unique())} subprocesos electorales.\"\n",
    ")"
   ]
  },
  {
   "cell_type": "markdown",
   "id": "be9b7794-c5e3-4569-87b4-0914f45f4270",
   "metadata": {},
   "source": [
    "Éstos son los subprocesos en la categoría \"_Elecciones Generales_\":"
   ]
  },
  {
   "cell_type": "code",
   "execution_count": 80,
   "id": "c470f027-5c64-48a2-83cd-d70b75a942f0",
   "metadata": {},
   "outputs": [
    {
     "data": {
      "text/html": [
       "<div>\n",
       "<style scoped>\n",
       "    .dataframe tbody tr th:only-of-type {\n",
       "        vertical-align: middle;\n",
       "    }\n",
       "\n",
       "    .dataframe tbody tr th {\n",
       "        vertical-align: top;\n",
       "    }\n",
       "\n",
       "    .dataframe thead th {\n",
       "        text-align: right;\n",
       "    }\n",
       "</style>\n",
       "<table border=\"1\" class=\"dataframe\">\n",
       "  <thead>\n",
       "    <tr style=\"text-align: right;\">\n",
       "      <th></th>\n",
       "      <th>nombre_proceso_electoral</th>\n",
       "      <th>nom_sub_proceso</th>\n",
       "      <th>id_sub_proceso</th>\n",
       "    </tr>\n",
       "  </thead>\n",
       "  <tbody>\n",
       "    <tr>\n",
       "      <th>0</th>\n",
       "      <td>Elecciones Generales 1979</td>\n",
       "      <td>Elecciones Generales 1979</td>\n",
       "      <td>52</td>\n",
       "    </tr>\n",
       "    <tr>\n",
       "      <th>1</th>\n",
       "      <td>Elecciones Generales 1980</td>\n",
       "      <td>Elecciones Generales 1980</td>\n",
       "      <td>53</td>\n",
       "    </tr>\n",
       "    <tr>\n",
       "      <th>2</th>\n",
       "      <td>Elecciones Generales 1985</td>\n",
       "      <td>Elecciones Generales 1985</td>\n",
       "      <td>54</td>\n",
       "    </tr>\n",
       "    <tr>\n",
       "      <th>3</th>\n",
       "      <td>Elecciones Generales 1989</td>\n",
       "      <td>Elecciones Generales 1989</td>\n",
       "      <td>55</td>\n",
       "    </tr>\n",
       "    <tr>\n",
       "      <th>4</th>\n",
       "      <td>Elecciones Generales 1993</td>\n",
       "      <td>Elecciones Generales 1993</td>\n",
       "      <td>56</td>\n",
       "    </tr>\n",
       "    <tr>\n",
       "      <th>5</th>\n",
       "      <td>Elecciones Generales 1997</td>\n",
       "      <td>Elecciones Generales 1997</td>\n",
       "      <td>57</td>\n",
       "    </tr>\n",
       "    <tr>\n",
       "      <th>6</th>\n",
       "      <td>Elecciones Generales 1997</td>\n",
       "      <td>Elección de Diputados Uninominales 1997</td>\n",
       "      <td>60</td>\n",
       "    </tr>\n",
       "    <tr>\n",
       "      <th>7</th>\n",
       "      <td>Elecciones Generales 2002</td>\n",
       "      <td>Elecciones Generales 2002</td>\n",
       "      <td>58</td>\n",
       "    </tr>\n",
       "    <tr>\n",
       "      <th>8</th>\n",
       "      <td>Elecciones Generales 2002</td>\n",
       "      <td>Elección de Diputados Uninominales 2002</td>\n",
       "      <td>79</td>\n",
       "    </tr>\n",
       "    <tr>\n",
       "      <th>9</th>\n",
       "      <td>Elecciones Generales 2005</td>\n",
       "      <td>Elecciones Generales 2005</td>\n",
       "      <td>19</td>\n",
       "    </tr>\n",
       "    <tr>\n",
       "      <th>10</th>\n",
       "      <td>Elecciones Generales 2005</td>\n",
       "      <td>Elección de Diputados Uninominales 2005</td>\n",
       "      <td>80</td>\n",
       "    </tr>\n",
       "    <tr>\n",
       "      <th>11</th>\n",
       "      <td>Elecciones Generales 2009</td>\n",
       "      <td>Elecciones Generales 2009</td>\n",
       "      <td>82</td>\n",
       "    </tr>\n",
       "    <tr>\n",
       "      <th>12</th>\n",
       "      <td>Elecciones Generales 2009</td>\n",
       "      <td>Elecciones Generales 2009 Exterior</td>\n",
       "      <td>84</td>\n",
       "    </tr>\n",
       "    <tr>\n",
       "      <th>13</th>\n",
       "      <td>Elecciones Generales 2009</td>\n",
       "      <td>Elección de Diputados Uninominales 2009</td>\n",
       "      <td>61</td>\n",
       "    </tr>\n",
       "    <tr>\n",
       "      <th>14</th>\n",
       "      <td>Elecciones Generales 2009</td>\n",
       "      <td>Elección de Diputados en Circunscripciones Esp...</td>\n",
       "      <td>59</td>\n",
       "    </tr>\n",
       "    <tr>\n",
       "      <th>15</th>\n",
       "      <td>Elecciones Generales 2014</td>\n",
       "      <td>Elecciones Generales 2014</td>\n",
       "      <td>17</td>\n",
       "    </tr>\n",
       "    <tr>\n",
       "      <th>16</th>\n",
       "      <td>Elecciones Generales 2014</td>\n",
       "      <td>Elecciones Generales 2014 Exterior</td>\n",
       "      <td>85</td>\n",
       "    </tr>\n",
       "    <tr>\n",
       "      <th>17</th>\n",
       "      <td>Elecciones Generales 2014</td>\n",
       "      <td>Elección de Diputados Uninominales 2014</td>\n",
       "      <td>62</td>\n",
       "    </tr>\n",
       "    <tr>\n",
       "      <th>18</th>\n",
       "      <td>Elecciones Generales 2014</td>\n",
       "      <td>Elección de Diputados en Circunscripciones Esp...</td>\n",
       "      <td>18</td>\n",
       "    </tr>\n",
       "    <tr>\n",
       "      <th>19</th>\n",
       "      <td>Elecciones Generales 2020</td>\n",
       "      <td>ELECCIONES GENERALES 2020</td>\n",
       "      <td>107</td>\n",
       "    </tr>\n",
       "    <tr>\n",
       "      <th>20</th>\n",
       "      <td>Elecciones Generales 2020</td>\n",
       "      <td>ELECCIONES GENERALES 2020 EXTERIOR</td>\n",
       "      <td>108</td>\n",
       "    </tr>\n",
       "    <tr>\n",
       "      <th>21</th>\n",
       "      <td>Elecciones Generales 2020</td>\n",
       "      <td>ELECCIÓN DE DIPUTADOS UNINOMINALES 2020</td>\n",
       "      <td>109</td>\n",
       "    </tr>\n",
       "    <tr>\n",
       "      <th>22</th>\n",
       "      <td>Elecciones Generales 2020</td>\n",
       "      <td>ELECCIÓN DE DIPUTADOS EN CIRCUNSCRIPCIONES ESP...</td>\n",
       "      <td>110</td>\n",
       "    </tr>\n",
       "  </tbody>\n",
       "</table>\n",
       "</div>"
      ],
      "text/plain": [
       "     nombre_proceso_electoral  \\\n",
       "0   Elecciones Generales 1979   \n",
       "1   Elecciones Generales 1980   \n",
       "2   Elecciones Generales 1985   \n",
       "3   Elecciones Generales 1989   \n",
       "4   Elecciones Generales 1993   \n",
       "5   Elecciones Generales 1997   \n",
       "6   Elecciones Generales 1997   \n",
       "7   Elecciones Generales 2002   \n",
       "8   Elecciones Generales 2002   \n",
       "9   Elecciones Generales 2005   \n",
       "10  Elecciones Generales 2005   \n",
       "11  Elecciones Generales 2009   \n",
       "12  Elecciones Generales 2009   \n",
       "13  Elecciones Generales 2009   \n",
       "14  Elecciones Generales 2009   \n",
       "15  Elecciones Generales 2014   \n",
       "16  Elecciones Generales 2014   \n",
       "17  Elecciones Generales 2014   \n",
       "18  Elecciones Generales 2014   \n",
       "19  Elecciones Generales 2020   \n",
       "20  Elecciones Generales 2020   \n",
       "21  Elecciones Generales 2020   \n",
       "22  Elecciones Generales 2020   \n",
       "\n",
       "                                      nom_sub_proceso id_sub_proceso  \n",
       "0                           Elecciones Generales 1979             52  \n",
       "1                           Elecciones Generales 1980             53  \n",
       "2                           Elecciones Generales 1985             54  \n",
       "3                           Elecciones Generales 1989             55  \n",
       "4                           Elecciones Generales 1993             56  \n",
       "5                           Elecciones Generales 1997             57  \n",
       "6             Elección de Diputados Uninominales 1997             60  \n",
       "7                           Elecciones Generales 2002             58  \n",
       "8             Elección de Diputados Uninominales 2002             79  \n",
       "9                           Elecciones Generales 2005             19  \n",
       "10            Elección de Diputados Uninominales 2005             80  \n",
       "11                          Elecciones Generales 2009             82  \n",
       "12                 Elecciones Generales 2009 Exterior             84  \n",
       "13            Elección de Diputados Uninominales 2009             61  \n",
       "14  Elección de Diputados en Circunscripciones Esp...             59  \n",
       "15                          Elecciones Generales 2014             17  \n",
       "16                 Elecciones Generales 2014 Exterior             85  \n",
       "17            Elección de Diputados Uninominales 2014             62  \n",
       "18  Elección de Diputados en Circunscripciones Esp...             18  \n",
       "19                          ELECCIONES GENERALES 2020            107  \n",
       "20                 ELECCIONES GENERALES 2020 EXTERIOR            108  \n",
       "21            ELECCIÓN DE DIPUTADOS UNINOMINALES 2020            109  \n",
       "22  ELECCIÓN DE DIPUTADOS EN CIRCUNSCRIPCIONES ESP...            110  "
      ]
     },
     "execution_count": 80,
     "metadata": {},
     "output_type": "execute_result"
    }
   ],
   "source": [
    "procesos[procesos.nom_agrupacion_proceso == \"Elecciones Generales\"][\n",
    "    [\"nombre_proceso_electoral\", \"nom_sub_proceso\", \"id_sub_proceso\"]\n",
    "]"
   ]
  },
  {
   "cell_type": "markdown",
   "id": "8e9377fa-57f1-43bd-800e-66864d8e4aaf",
   "metadata": {},
   "source": [
    "Intentamos descargar resultados para estos procesos."
   ]
  },
  {
   "cell_type": "code",
   "execution_count": 116,
   "id": "18ff6cdd-b36f-4d1a-9506-ecd839121742",
   "metadata": {},
   "outputs": [],
   "source": [
    "def descargar_resultados(subproceso):\n",
    "    headers = {\n",
    "        \"User-Agent\": \"Mozilla/5.0 (X11; Ubuntu; Linux x86_64; rv:141.0) Gecko/20100101 Firefox/141.0\",\n",
    "    }\n",
    "\n",
    "    columnas_admin = {\n",
    "        \"Codigo PAIS\": \"pais\",\n",
    "        \"Nombre PAIS\": \"pais_nombre\",\n",
    "        \"Codigo DEPARTAMENTO\": \"departamento\",\n",
    "        \"Nombre DEPARTAMENTO\": \"departamento_nombre\",\n",
    "        \"Codigo PROVINCIA\": \"provincia\",\n",
    "        \"Nombre PROVINCIA\": \"provincia_nombre\",\n",
    "        \"Codigo MUNICIPIO\": \"municipio\",\n",
    "        \"Nombre MUNICIPIO\": \"municipio_nombre\",\n",
    "        \"Codigo CIRCUNSCRIPCION\": \"circunscripcion\",\n",
    "        \"Nombre CIRCUNSCRIPCION\": \"circunscripcion_nombre\",\n",
    "        \"Codigo RECINTO\": \"recinto\",\n",
    "        \"Nombre RECINTO\": \"recinto_nombre\",\n",
    "        \"Codigo MESA\": \"mesa\",\n",
    "        \"Nombre MESA\": \"mesa_nombre\",\n",
    "    }\n",
    "    directorio = subproceso[\"nombre_proceso_electoral\"].split()[-1]\n",
    "    filename = subproceso[\"nom_sub_proceso\"].lower().replace(\" \", \"_\")\n",
    "    url = f\"https://atlaselectoral.oep.org.bo/descarga/{subproceso['id_sub_proceso']}/votos_totales.csv\"\n",
    "    os.makedirs(directorio, exist_ok=True)\n",
    "\n",
    "    try:\n",
    "        df = pd.read_csv(url, sep=\"|\", storage_options=headers)\n",
    "        admin = [col for col in df.columns if col in columnas_admin.keys()]\n",
    "        stacked = df.set_index(admin).stack().reset_index().copy()\n",
    "        stacked.columns = [columnas_admin[col] for col in admin] + [\"opcion\", \"conteo\"]\n",
    "        stacked.to_parquet(f\"{directorio}/{filename}.parquet\")\n",
    "        display(\n",
    "            Markdown(\n",
    "                f\"**{subproceso['nom_sub_proceso']}**: desagregado en {', '.join(['`' + col.split()[-1].lower() + '`' for col in admin if 'Codigo' in col])}\"\n",
    "            )\n",
    "        )\n",
    "    except Exception as e:\n",
    "        display(Markdown(f\"{subproceso['nom_sub_proceso']}: ERROR {e}\"))"
   ]
  },
  {
   "cell_type": "code",
   "execution_count": 118,
   "id": "ff6f8dab-cb3c-404e-8133-bab783566ca5",
   "metadata": {},
   "outputs": [
    {
     "data": {
      "text/markdown": [
       "**Elecciones Generales 1979**: desagregado en `pais`, `departamento`"
      ],
      "text/plain": [
       "<IPython.core.display.Markdown object>"
      ]
     },
     "metadata": {},
     "output_type": "display_data"
    },
    {
     "data": {
      "text/markdown": [
       "**Elecciones Generales 1980**: desagregado en `pais`, `departamento`"
      ],
      "text/plain": [
       "<IPython.core.display.Markdown object>"
      ]
     },
     "metadata": {},
     "output_type": "display_data"
    },
    {
     "data": {
      "text/markdown": [
       "**Elecciones Generales 1985**: desagregado en `pais`, `departamento`, `provincia`"
      ],
      "text/plain": [
       "<IPython.core.display.Markdown object>"
      ]
     },
     "metadata": {},
     "output_type": "display_data"
    },
    {
     "data": {
      "text/markdown": [
       "**Elecciones Generales 1989**: desagregado en `pais`, `departamento`, `provincia`"
      ],
      "text/plain": [
       "<IPython.core.display.Markdown object>"
      ]
     },
     "metadata": {},
     "output_type": "display_data"
    },
    {
     "data": {
      "text/markdown": [
       "**Elecciones Generales 1993**: desagregado en `pais`, `departamento`, `provincia`"
      ],
      "text/plain": [
       "<IPython.core.display.Markdown object>"
      ]
     },
     "metadata": {},
     "output_type": "display_data"
    },
    {
     "data": {
      "text/markdown": [
       "**Elecciones Generales 1997**: desagregado en `pais`, `departamento`, `provincia`, `municipio`"
      ],
      "text/plain": [
       "<IPython.core.display.Markdown object>"
      ]
     },
     "metadata": {},
     "output_type": "display_data"
    },
    {
     "data": {
      "text/markdown": [
       "**Elección de Diputados Uninominales 1997**: desagregado en `pais`, `circunscripcion`"
      ],
      "text/plain": [
       "<IPython.core.display.Markdown object>"
      ]
     },
     "metadata": {},
     "output_type": "display_data"
    },
    {
     "data": {
      "text/markdown": [
       "**Elecciones Generales 2002**: desagregado en `pais`, `departamento`, `provincia`, `municipio`"
      ],
      "text/plain": [
       "<IPython.core.display.Markdown object>"
      ]
     },
     "metadata": {},
     "output_type": "display_data"
    },
    {
     "data": {
      "text/markdown": [
       "**Elección de Diputados Uninominales 2002**: desagregado en `pais`, `circunscripcion`, `recinto`, `mesa`"
      ],
      "text/plain": [
       "<IPython.core.display.Markdown object>"
      ]
     },
     "metadata": {},
     "output_type": "display_data"
    },
    {
     "data": {
      "text/markdown": [
       "**Elecciones Generales 2005**: desagregado en `pais`, `departamento`, `provincia`, `municipio`, `recinto`, `mesa`"
      ],
      "text/plain": [
       "<IPython.core.display.Markdown object>"
      ]
     },
     "metadata": {},
     "output_type": "display_data"
    },
    {
     "data": {
      "text/markdown": [
       "Elección de Diputados Uninominales 2005: ERROR 'utf-8' codec can't decode byte 0xff in position 0: invalid start byte"
      ],
      "text/plain": [
       "<IPython.core.display.Markdown object>"
      ]
     },
     "metadata": {},
     "output_type": "display_data"
    },
    {
     "data": {
      "text/markdown": [
       "**Elecciones Generales 2009**: desagregado en `pais`, `departamento`, `provincia`, `municipio`, `recinto`, `mesa`"
      ],
      "text/plain": [
       "<IPython.core.display.Markdown object>"
      ]
     },
     "metadata": {},
     "output_type": "display_data"
    },
    {
     "data": {
      "text/markdown": [
       "**Elecciones Generales 2009 Exterior**: desagregado en `pais`, `recinto`, `mesa`"
      ],
      "text/plain": [
       "<IPython.core.display.Markdown object>"
      ]
     },
     "metadata": {},
     "output_type": "display_data"
    },
    {
     "data": {
      "text/markdown": [
       "**Elección de Diputados Uninominales 2009**: desagregado en `pais`, `circunscripcion`"
      ],
      "text/plain": [
       "<IPython.core.display.Markdown object>"
      ]
     },
     "metadata": {},
     "output_type": "display_data"
    },
    {
     "data": {
      "text/markdown": [
       "**Elección de Diputados en Circunscripciones Especiales**: desagregado en `pais`, `departamento`, `provincia`, `municipio`"
      ],
      "text/plain": [
       "<IPython.core.display.Markdown object>"
      ]
     },
     "metadata": {},
     "output_type": "display_data"
    },
    {
     "data": {
      "text/markdown": [
       "**Elecciones Generales 2014**: desagregado en `pais`, `departamento`, `provincia`, `municipio`, `recinto`, `mesa`"
      ],
      "text/plain": [
       "<IPython.core.display.Markdown object>"
      ]
     },
     "metadata": {},
     "output_type": "display_data"
    },
    {
     "data": {
      "text/markdown": [
       "**Elecciones Generales 2014 Exterior**: desagregado en `pais`, `recinto`, `mesa`"
      ],
      "text/plain": [
       "<IPython.core.display.Markdown object>"
      ]
     },
     "metadata": {},
     "output_type": "display_data"
    },
    {
     "data": {
      "text/markdown": [
       "**Elección de Diputados Uninominales 2014**: desagregado en `pais`, `circunscripcion`, `recinto`, `mesa`"
      ],
      "text/plain": [
       "<IPython.core.display.Markdown object>"
      ]
     },
     "metadata": {},
     "output_type": "display_data"
    },
    {
     "data": {
      "text/markdown": [
       "**Elección de Diputados en Circunscripciones Especiales 2014**: desagregado en `pais`, `departamento`, `provincia`, `municipio`, `recinto`, `mesa`"
      ],
      "text/plain": [
       "<IPython.core.display.Markdown object>"
      ]
     },
     "metadata": {},
     "output_type": "display_data"
    },
    {
     "data": {
      "text/markdown": [
       "**ELECCIONES GENERALES 2020**: desagregado en `pais`, `departamento`, `provincia`, `municipio`, `recinto`, `mesa`"
      ],
      "text/plain": [
       "<IPython.core.display.Markdown object>"
      ]
     },
     "metadata": {},
     "output_type": "display_data"
    },
    {
     "data": {
      "text/markdown": [
       "**ELECCIONES GENERALES 2020 EXTERIOR**: desagregado en `pais`, `recinto`, `mesa`"
      ],
      "text/plain": [
       "<IPython.core.display.Markdown object>"
      ]
     },
     "metadata": {},
     "output_type": "display_data"
    },
    {
     "data": {
      "text/markdown": [
       "**ELECCIÓN DE DIPUTADOS UNINOMINALES 2020**: desagregado en `pais`, `circunscripcion`, `recinto`, `mesa`"
      ],
      "text/plain": [
       "<IPython.core.display.Markdown object>"
      ]
     },
     "metadata": {},
     "output_type": "display_data"
    },
    {
     "data": {
      "text/markdown": [
       "**ELECCIÓN DE DIPUTADOS EN CIRCUNSCRIPCIONES ESPECIALES 2020**: desagregado en `pais`, `departamento`, `provincia`, `municipio`, `recinto`, `mesa`"
      ],
      "text/plain": [
       "<IPython.core.display.Markdown object>"
      ]
     },
     "metadata": {},
     "output_type": "display_data"
    }
   ],
   "source": [
    "for i, subproceso in procesos[\n",
    "    procesos.nom_agrupacion_proceso == \"Elecciones Generales\"\n",
    "].iterrows():\n",
    "    descargar_resultados(subproceso)"
   ]
  },
  {
   "cell_type": "markdown",
   "id": "81b9a92e-9743-4aa5-9854-e50ccab4a07a",
   "metadata": {},
   "source": [
    "Podemos descargar resultados para todos los procesos excepto las elecciones de diputados uninominales de 2005, para las que [no existen](https://atlaselectoral.oep.org.bo/descarga/80/votos_totales.csv) datos en el servidor. Además tenemos datos a resolución de mesa desde la elección general de 2002. Con una variación mínima es posible descargar datos para otros procesos electorales, que incluyen elecciones departamentales, municipales, judiciales, referendos, elecciones constituyentes y elecciones primarias."
   ]
  }
 ],
 "metadata": {
  "kernelspec": {
   "display_name": "pruebas",
   "language": "python",
   "name": "pruebas"
  },
  "language_info": {
   "codemirror_mode": {
    "name": "ipython",
    "version": 3
   },
   "file_extension": ".py",
   "mimetype": "text/x-python",
   "name": "python",
   "nbconvert_exporter": "python",
   "pygments_lexer": "ipython3",
   "version": "3.12.3"
  }
 },
 "nbformat": 4,
 "nbformat_minor": 5
}
